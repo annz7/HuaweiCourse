{
  "cells": [
    {
      "cell_type": "code",
      "execution_count": 18,
      "metadata": {
        "id": "UAIZyRe1Jp8a"
      },
      "outputs": [],
      "source": [
        "#!pip install mindspore\n",
        "#!pip install mindinsight"
      ]
    },
    {
      "cell_type": "markdown",
      "metadata": {
        "id": "I-Xm7GozJuHO"
      },
      "source": [
        "# Imports"
      ]
    },
    {
      "cell_type": "code",
      "execution_count": null,
      "metadata": {
        "id": "X-yAwZaJJxvm"
      },
      "outputs": [],
      "source": [
        "from mindspore import context\n",
        "from mindspore import dataset as ds\n",
        "from mindspore.common.initializer import Normal\n",
        "from mindspore import nn\n",
        "from mindspore import Tensor\n",
        "from mindspore import Model\n",
        "from mindspore.train.callback import Callback\n",
        "from mindspore.train.callback import SummaryCollector\n",
        "from mindspore.profiler import Profiler\n",
        "from mindspore.ops import TensorSummary\n",
        "\n",
        "import numpy as np\n",
        "import matplotlib.pyplot as plt\n",
        "import time\n",
        "from IPython import display"
      ]
    },
    {
      "cell_type": "markdown",
      "metadata": {
        "id": "XFFzHMd_J37Z"
      },
      "source": [
        "# Utils"
      ]
    },
    {
      "cell_type": "code",
      "execution_count": null,
      "metadata": {
        "id": "uiCoGcTtKYZq"
      },
      "outputs": [],
      "source": [
        "def get_data(num, w=2.0, b=3.0):\n",
        "    for _ in range(num):\n",
        "        x = np.random.uniform(-10.0, 10.0)\n",
        "        noise = np.random.normal(0, 1)\n",
        "        y = x * w + b + noise\n",
        "        yield np.array([x]).astype(np.float32), np.array([y]).astype(np.float32)"
      ]
    },
    {
      "cell_type": "code",
      "execution_count": null,
      "metadata": {
        "id": "BfpKVSEFL48n"
      },
      "outputs": [],
      "source": [
        "def create_dataset(num_data, batch_size=16, repeat_size=1):\n",
        "    input_data = ds.GeneratorDataset(list(get_data(num_data)), column_names=['data', 'label'])\n",
        "    input_data = input_data.batch(batch_size)\n",
        "    input_data = input_data.repeat(repeat_size)\n",
        "    return input_data"
      ]
    },
    {
      "cell_type": "code",
      "execution_count": null,
      "metadata": {
        "id": "yREAe9YpKlkz"
      },
      "outputs": [],
      "source": [
        "class LinearNet(nn.Cell):\n",
        "    def __init__(self):\n",
        "        super(LinearNet, self).__init__()\n",
        "        self.fc = nn.Dense(1, 1, Normal(0.02), Normal(0.02))\n",
        "        self.tensor_summary = TensorSummary()\n",
        "\n",
        "    def construct(self, x):\n",
        "        x = self.fc(x)\n",
        "        self.tensor_summary(\"tensor\", x)\n",
        "        return x"
      ]
    },
    {
      "cell_type": "code",
      "execution_count": null,
      "metadata": {
        "id": "L3RRjhngK-fW"
      },
      "outputs": [],
      "source": [
        "def plot_model_and_datasets(net, eval_data):\n",
        "    weight = net.trainable_params()[0]\n",
        "    bias = net.trainable_params()[1]\n",
        "    x = np.arange(-10, 10, 0.1)\n",
        "    y = x * Tensor(weight).asnumpy()[0][0] + Tensor(bias).asnumpy()[0]\n",
        "    x1, y1 = zip(*eval_data)\n",
        "    x_target = x\n",
        "    y_target = x_target * 2 + 3\n",
        "\n",
        "    plt.axis([-11, 11, -20, 25])\n",
        "    plt.scatter(x1, y1, color=\"red\", s=5)\n",
        "    plt.plot(x, y, color=\"blue\")\n",
        "    plt.plot(x_target, y_target, color=\"green\")\n",
        "    plt.show()\n",
        "    time.sleep(0.2)"
      ]
    },
    {
      "cell_type": "code",
      "execution_count": null,
      "metadata": {
        "id": "IHCL0nWHLBZR"
      },
      "outputs": [],
      "source": [
        "class ImageShowCallback(Callback):\n",
        "    def __init__(self, net, eval_data):\n",
        "        self.net = net\n",
        "        self.eval_data = eval_data\n",
        "\n",
        "    def step_end(self, run_context):\n",
        "        plot_model_and_datasets(self.net, self.eval_data)\n",
        "        display.clear_output(wait=True)"
      ]
    },
    {
      "cell_type": "markdown",
      "metadata": {
        "id": "14EoVmVxJy2k"
      },
      "source": [
        "# Main part"
      ]
    },
    {
      "cell_type": "code",
      "execution_count": null,
      "metadata": {
        "id": "dtJEr5i1J01S"
      },
      "outputs": [],
      "source": [
        "context.set_context(mode=context.GRAPH_MODE, device_target=\"CPU\")"
      ]
    },
    {
      "cell_type": "code",
      "execution_count": null,
      "metadata": {
        "colab": {
          "base_uri": "https://localhost:8080/"
        },
        "id": "iww6eo29KbEk",
        "outputId": "7fa80892-374d-4871-ff87-c58056341eb2"
      },
      "outputs": [
        {
          "data": {
            "image/png": "[encoded data removed]",
            "text/plain": [
              "<Figure size 432x288 with 1 Axes>"
            ]
          },
          "metadata": {},
          "output_type": "display_data"
        }
      ],
      "source": [
        "eval_data = list(get_data(50))\n",
        "x_target_label = np.array([-10, 10, 0.1])\n",
        "y_target_label = x_target_label * 2 + 3\n",
        "x_eval_label, y_eval_label = zip(*eval_data)\n",
        "\n",
        "plt.scatter(x_eval_label, y_eval_label, color=\"red\", s=5)\n",
        "plt.plot(x_target_label, y_target_label, color=\"green\")\n",
        "plt.title(\"Eval data\")\n",
        "plt.show()"
      ]
    },
    {
      "cell_type": "code",
      "execution_count": null,
      "metadata": {
        "colab": {
          "base_uri": "https://localhost:8080/"
        },
        "id": "Mt_yDmJKKbK2",
        "outputId": "f86c9c06-494a-473a-fa7b-f83b1da72a2c"
      },
      "outputs": [
        {
          "name": "stdout",
          "output_type": "stream",
          "text": [
            "The dataset size of ds_train: 100\n",
            "dict_keys(['data', 'label'])\n",
            "The x label value shape: (16, 1)\n",
            "The y label value shape: (16, 1)\n"
          ]
        }
      ],
      "source": [
        "data_number = 1600\n",
        "batch_number = 16\n",
        "repeat_number = 1\n",
        "\n",
        "ds_train = create_dataset(data_number, batch_size=batch_number, repeat_size=repeat_number)\n",
        "print(\"The dataset size of ds_train:\", ds_train.get_dataset_size())\n",
        "dict_datasets = next(ds_train.create_dict_iterator())\n",
        "\n",
        "print(dict_datasets.keys())\n",
        "print(\"The x label value shape:\", dict_datasets[\"data\"].shape)\n",
        "print(\"The y label value shape:\", dict_datasets[\"label\"].shape)"
      ]
    },
    {
      "cell_type": "code",
      "execution_count": null,
      "metadata": {
        "colab": {
          "base_uri": "https://localhost:8080/"
        },
        "id": "ngUxhPa8KbNO",
        "outputId": "b31ea9bc-6f03-428b-c77d-09276fd05ef4"
      },
      "outputs": [
        {
          "name": "stdout",
          "output_type": "stream",
          "text": [
            "Parameter (name=fc.weight, shape=(1, 1), dtype=Float32, requires_grad=True) [[0.01523947]]\n",
            "Parameter (name=fc.bias, shape=(1,), dtype=Float32, requires_grad=True) [0.00701726]\n"
          ]
        }
      ],
      "source": [
        "net = LinearNet()\n",
        "model_params = net.trainable_params()\n",
        "for param in model_params:\n",
        "    print(param, param.asnumpy())"
      ]
    },
    {
      "cell_type": "code",
      "execution_count": null,
      "metadata": {
        "colab": {
          "base_uri": "https://localhost:8080/"
        },
        "id": "_vTSp8MvKbQn",
        "outputId": "02367c57-a638-4f6e-f808-a9c5e2e7e4d4"
      },
      "outputs": [
        {
          "data": {
            "image/png": "[encoded data removed]",
            "text/plain": [
              "<Figure size 432x288 with 1 Axes>"
            ]
          },
          "metadata": {},
          "output_type": "display_data"
        }
      ],
      "source": [
        "x_model_label = np.array([-10, 10, 0.1])\n",
        "y_model_label = (x_model_label * Tensor(model_params[0]).asnumpy()[0][0] +\n",
        "                 Tensor(model_params[1]).asnumpy()[0])\n",
        "plt.axis([-10, 10, -20, 25])\n",
        "plt.scatter(x_eval_label, y_eval_label, color=\"red\", s=5)\n",
        "plt.plot(x_model_label, y_model_label, color=\"blue\")\n",
        "plt.plot(x_target_label, y_target_label, color=\"green\")\n",
        "plt.show()"
      ]
    },
    {
      "cell_type": "code",
      "execution_count": null,
      "metadata": {
        "id": "fL5Jw_u4Kt-K"
      },
      "outputs": [],
      "source": [
        "net = LinearNet()\n",
        "net_loss = nn.loss.MSELoss()"
      ]
    },
    {
      "cell_type": "code",
      "execution_count": null,
      "metadata": {
        "id": "9z1cdeA2KwLq"
      },
      "outputs": [],
      "source": [
        "opt = nn.Momentum(net.trainable_params(), learning_rate=0.005, momentum=0.9)"
      ]
    },
    {
      "cell_type": "code",
      "execution_count": null,
      "metadata": {
        "id": "CDd8swM_K4qT"
      },
      "outputs": [],
      "source": [
        "model = Model(net, net_loss, opt)"
      ]
    },
    {
      "cell_type": "code",
      "execution_count": null,
      "metadata": {
        "colab": {
          "base_uri": "https://localhost:8080/"
        },
        "id": "CtOLDsVTK5Pu",
        "outputId": "8585e892-8d2c-4878-b9c4-1646ad1c404c"
      },
      "outputs": [
        {
          "name": "stderr",
          "output_type": "stream",
          "text": [
            "[WARNING] ME(524:140199522113408,MainProcess):2022-04-26-16:15:17.801.780 [mindspore/profiler/profiling.py:916] The target dir already exists. There may be some old profiling data, and they will be rewritten in the end.\n"
          ]
        }
      ],
      "source": [
        "summary_collector = SummaryCollector(summary_dir='./summary_dir', collect_freq=1)\n",
        "profiler = Profiler(output_path='./profiler_data')"
      ]
    },
    {
      "cell_type": "code",
      "execution_count": null,
      "metadata": {
        "colab": {
          "background_save": true
        },
        "id": "8nyO1YBtK5an",
        "outputId": "3316803a-8812-4ba6-a396-531b0b3c91b7"
      },
      "outputs": [
        {
          "data": {
            "image/png": "[encoded data removed]",
            "text/plain": [
              "<Figure size 432x288 with 1 Axes>"
            ]
          },
          "metadata": {},
          "output_type": "display_data"
        },
        {
          "name": "stdout",
          "output_type": "stream",
          "text": [
            "Parameter (name=fc.weight, shape=(1, 1), dtype=Float32, requires_grad=True) [[2.01753]]\n",
            "Parameter (name=fc.bias, shape=(1,), dtype=Float32, requires_grad=True) [3.034316]\n"
          ]
        }
      ],
      "source": [
        "epoch = 1\n",
        "imageshow_cb = ImageShowCallback(net, eval_data)\n",
        "model.train(epoch, ds_train, callbacks=[imageshow_cb, summary_collector], dataset_sink_mode=False)\n",
        "\n",
        "profiler.analyse()\n",
        "\n",
        "plot_model_and_datasets(net, eval_data)\n",
        "for param in net.trainable_params():\n",
        "    print(param, param.asnumpy())"
      ]
    },
    {
      "cell_type": "markdown",
      "metadata": {
        "id": "cBRdxocfoMwZ"
      },
      "source": [
        "# Export"
      ]
    },
    {
      "cell_type": "code",
      "execution_count": null,
      "metadata": {
        "colab": {
          "background_save": true
        },
        "id": "WwmAGozEUVWo",
        "outputId": "a682c038-8b60-4f4f-b790-d82c9227b2e7"
      },
      "outputs": [
        {
          "data": {
            "application/vnd.google.colaboratory.intrinsic+json": {
              "type": "string"
            },
            "text/plain": [
              "\"/content/profiler_data'.zip\""
            ]
          },
          "execution_count": null,
          "metadata": {},
          "output_type": "execute_result"
        }
      ],
      "source": [
        "import shutil\n",
        "shutil.make_archive(\"summary_dir\", \"zip\", '/content/summary_dir')\n",
        "shutil.make_archive(\"profiler_data'\", \"zip\", '/content/profiler_data')"
      ]
    },
    {
      "cell_type": "code",
      "execution_count": null,
      "metadata": {
        "id": "3HjRaMkPU5Ri"
      },
      "outputs": [],
      "source": [
        ""
      ]
    }
  ],
  "metadata": {
    "colab": {
      "name": "linear_regression.ipynb",
      "provenance": []
    },
    "kernelspec": {
      "display_name": "Python 3",
      "name": "python3"
    },
    "language_info": {
      "name": "python"
    }
  },
  "nbformat": 4,
  "nbformat_minor": 0
}